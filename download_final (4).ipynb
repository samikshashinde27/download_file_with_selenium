{
 "cells": [
  {
   "cell_type": "code",
   "execution_count": 1,
   "id": "31ff674d",
   "metadata": {},
   "outputs": [
    {
     "name": "stdout",
     "output_type": "stream",
     "text": [
      "['attachments', 'attachments_sami', 'attachments_samiksha_shinde', 'attachments_samiksha_shinde1', 'my_file.py', 'my_new_file']\n"
     ]
    }
   ],
   "source": [
    "from selenium import webdriver\n",
    "import shutil\n",
    "import os\n",
    "import time\n",
    "from selenium.webdriver.support.ui import WebDriverWait\n",
    "from selenium.webdriver.support import expected_conditions as EC \n",
    "from selenium.webdriver.common.by import By\n",
    "from selenium.webdriver.chrome.options import Options\n",
    "\n",
    "# Set the download directory path\n",
    "script_name = 'attachments_samiksha_shinde1'\n",
    "folder_name = '/' + script_name\n",
    "download_directory = 'C:/Users/samiksha-shinde/my_new_folder'\n",
    "\n",
    "tmp_dwn = download_directory + folder_name\n",
    "tmp_dwn_dir = tmp_dwn.replace('/',\"\\\\\")\n",
    "os.makedirs(tmp_dwn_dir)\n",
    "# Create a dictionary to set download preferences\n",
    "profile = {\n",
    "    \"download.default_directory\": tmp_dwn_dir,\n",
    "    \"download.prompt_for_download\": False,\n",
    "    \"download.directory_upgrade\": True,\n",
    "    \"safebrowsing.enabled\": True\n",
    "}\n",
    "\n",
    "chrome_options = webdriver.ChromeOptions()\n",
    "chrome_options.add_experimental_option(\"prefs\", profile)\n",
    "\n",
    "driver = webdriver.Chrome(options=chrome_options)\n",
    "driver.maximize_window()\n",
    "# driver1 = webdriver.Chrome(chrome_options=chrome_options)\n",
    "# Navigate to a page where the file can be downloaded\n",
    "driver.get(\"https://www.tenderned.nl/aankondigingen/overzicht/327158\")\n",
    "time.sleep(5)\n",
    "\n",
    "# notice_url = driver.find_element(By.CSS_SELECTOR, 'a.tn-link').get_attribute(\"href\")\n",
    "# driver1.get(notice_url)\n",
    "# time.sleep(5)\n",
    "\n",
    "Publicatie_click = WebDriverWait(driver, 50).until(EC.element_to_be_clickable((By.XPATH,'//*[contains(text(),\"Publicatie\")]')))\n",
    "driver.execute_script(\"arguments[0].click();\",Publicatie_click)\n",
    "time.sleep(7) \n",
    "\n",
    "\n",
    "external_url = driver.find_element(By.XPATH,'//*[@id=\"mat-tab-content-0-1\"]/div/tn-aankondiging-publicatie-tab/tn-secondary-button/div/button').click()\n",
    "time.sleep(3)\n",
    "# Perform actions to trigger the file download (replace with your own actions)\n",
    "\n",
    "# Wait for some time to ensure the download completes\n",
    "# time.sleep(5)\n",
    "\n",
    "# # Get the list of files in the download directory\n",
    "files = os.listdir(download_directory)\n",
    "print(files)\n",
    "\n",
    "# Close the WebDriver\n",
    "# driver.quit()\n",
    "# driver1.quit()\n"
   ]
  },
  {
   "cell_type": "code",
   "execution_count": null,
   "id": "73355a03",
   "metadata": {},
   "outputs": [],
   "source": []
  }
 ],
 "metadata": {
  "kernelspec": {
   "display_name": "Python 3 (ipykernel)",
   "language": "python",
   "name": "python3"
  },
  "language_info": {
   "codemirror_mode": {
    "name": "ipython",
    "version": 3
   },
   "file_extension": ".py",
   "mimetype": "text/x-python",
   "name": "python",
   "nbconvert_exporter": "python",
   "pygments_lexer": "ipython3",
   "version": "3.10.9"
  }
 },
 "nbformat": 4,
 "nbformat_minor": 5
}
